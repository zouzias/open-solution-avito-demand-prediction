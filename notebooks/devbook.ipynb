{
 "cells": [
  {
   "cell_type": "code",
   "execution_count": null,
   "metadata": {},
   "outputs": [],
   "source": [
    "%load_ext autoreload\n",
    "%autoreload 2\n",
    "%matplotlib inline\n",
    "import os\n",
    "import sys\n",
    "\n",
    "import matplotlib.pyplot as plt\n",
    "import numpy as np\n",
    "import pandas as pd\n",
    "import seaborn as sns\n",
    "from sklearn.externals import joblib\n",
    "from sklearn import metrics\n",
    "import lightgbm as lgb\n",
    "\n",
    "sys.path.append('../')\n",
    "from pipelines import main\n",
    "import pipeline_config as cfg\n",
    "\n",
    "EXPERIMENT_DIR = 'YOUR/PATH/TO/EXPERIMETS'"
   ]
  },
  {
   "cell_type": "markdown",
   "metadata": {},
   "source": [
    "# Solution 2\n",
    "\n",
    "Local CV: **0.2197**\n",
    "Public LB: **0.2248**"
   ]
  },
  {
   "cell_type": "code",
   "execution_count": null,
   "metadata": {},
   "outputs": [],
   "source": [
    "main(cfg.SOLUTION_CONFIG, train_mode=False)"
   ]
  },
  {
   "cell_type": "markdown",
   "metadata": {},
   "source": [
    "## Feature Extraction\n",
    "\n",
    "1. Dataframe features (train.csv)\n",
    "\n",
    "    * numerical features - for now just the log(price) and item_seq\n",
    "\n",
    "    * target encoded features - likelihood encoding for categorical features\n",
    "\n",
    "    * groupby aggregations - features calculated based on aggregated categories\n",
    "\n",
    "2. Text Features\n",
    "\n",
    "    * Hand crafted features like len vs word count\n",
    "\n",
    "    * Word overlap between columns like `category_name` name and `descritpion`\n",
    "\n",
    "    * TFIDF on description and title\n",
    "\n",
    "3. Image Features\n",
    "\n",
    "    * Image statistics like histogram, mean var over channels, blur etc\n",
    "\n",
    "\n",
    "## Models\n",
    "* lightgbm with the following parameters\n",
    "\n",
    "```yaml\n",
    "  lgbm_random_search_runs: 0\n",
    "  lgbm__boosting_type: 'gbdt'\n",
    "  lgbm__objective: regression\n",
    "  lgbm__metric: RMSE\n",
    "  lgbm__number_boosting_rounds: 10000\n",
    "  lgbm__early_stopping_rounds: 50\n",
    "  lgbm__learning_rate: 0.2\n",
    "  lgbm__num_leaves: 90\n",
    "  lgbm__max_depth: 27\n",
    "  lgbm__min_child_samples: 20\n",
    "  lgbm__max_bin: 1300\n",
    "  lgbm__subsample: 0.8\n",
    "  lgbm__subsample_freq: 1\n",
    "  lgbm__colsample_bytree: 0.7\n",
    "  lgbm__min_child_weight: 12\n",
    "  lgbm__reg_lambda: 6.0\n",
    "  lgbm__reg_alpha: 3.4e-05\n",
    "  lgbm__scale_pos_weight: 1\n",
    "\n",
    "```"
   ]
  },
  {
   "cell_type": "markdown",
   "metadata": {},
   "source": [
    "## Result Exploration"
   ]
  },
  {
   "cell_type": "code",
   "execution_count": null,
   "metadata": {},
   "outputs": [],
   "source": [
    "prediction_filepath = os.path.join(EXPERIMENT_DIR, 'solution_2', 'evaluation_predictions.csv')\n",
    "evaluation_predictions =  pd.read_csv(prediction_filepath)"
   ]
  },
  {
   "cell_type": "code",
   "execution_count": null,
   "metadata": {},
   "outputs": [],
   "source": [
    "prediction_filepath = os.path.join(EXPERIMENT_DIR, 'solution_2', 'evaluation_predictions.csv')\n",
    "evaluation_predictions =  pd.read_csv(prediction_filepath)"
   ]
  },
  {
   "cell_type": "code",
   "execution_count": null,
   "metadata": {},
   "outputs": [],
   "source": [
    "worst_predictions.head(3)"
   ]
  },
  {
   "cell_type": "markdown",
   "metadata": {},
   "source": [
    "## Model exploration"
   ]
  },
  {
   "cell_type": "code",
   "execution_count": null,
   "metadata": {},
   "outputs": [],
   "source": [
    "model_filepath = os.path.join(EXPERIMENT_DIR, 'solution_2', 'transformers','light_gbm')\n",
    "light_gbm_model = joblib.load(model_filepath)"
   ]
  },
  {
   "cell_type": "markdown",
   "metadata": {},
   "source": [
    "### Learning Curve"
   ]
  },
  {
   "cell_type": "code",
   "execution_count": null,
   "metadata": {},
   "outputs": [],
   "source": [
    "ax = lgb.plot_metric(light_gbm_model['evals_result'], metric='rmse')\n",
    "plt.show()"
   ]
  },
  {
   "cell_type": "markdown",
   "metadata": {},
   "source": [
    "### Feature Importance"
   ]
  },
  {
   "cell_type": "code",
   "execution_count": null,
   "metadata": {},
   "outputs": [],
   "source": [
    "fig, ax = plt.subplots(1,1,figsize=(16,10))\n",
    "lgb.plot_importance(light_gbm_model['estimator'], max_num_features=20, ax=ax)\n",
    "plt.show()"
   ]
  }
 ],
 "metadata": {
  "kernelspec": {
   "display_name": "cpu py3",
   "language": "python",
   "name": "cpu_py3"
  },
  "language_info": {
   "codemirror_mode": {
    "name": "ipython",
    "version": 3
   },
   "file_extension": ".py",
   "mimetype": "text/x-python",
   "name": "python",
   "nbconvert_exporter": "python",
   "pygments_lexer": "ipython3",
   "version": "3.5.2"
  }
 },
 "nbformat": 4,
 "nbformat_minor": 2
}
